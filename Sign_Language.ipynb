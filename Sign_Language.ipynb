{
  "nbformat": 4,
  "nbformat_minor": 0,
  "metadata": {
    "colab": {
      "provenance": []
    },
    "kernelspec": {
      "name": "python3",
      "display_name": "Python 3"
    },
    "language_info": {
      "name": "python"
    }
  },
  "cells": [
    {
      "cell_type": "code",
      "execution_count": 3,
      "metadata": {
        "id": "JBzgTSzzksmD"
      },
      "outputs": [],
      "source": [
        "import cv2 as cv\n",
        "import os\n",
        "import time\n",
        "import numpy as np\n",
        "import matplotlib.pyplot as plt\n",
        "import mediapipe as mp"
      ]
    },
    {
      "cell_type": "code",
      "source": [
        "#Holistic model\n",
        "mp_holistic = mp.solutions.holistic \n",
        "\n",
        "#Drawing utilities\n",
        "mp_drawing = mp.solutions.drawing_utils"
      ],
      "metadata": {
        "id": "pD2X4LlTl2nF"
      },
      "execution_count": 4,
      "outputs": []
    },
    {
      "cell_type": "code",
      "source": [
        "def mediapipe_detection (image, model):\n",
        "  image = cv.cvtColor(image, cv.COLOR_BGR2RGB)  #converting color from BGR to RGB\n",
        "  image.flags.writeable = False #cannot write on image\n",
        "  result = model.process(image) #make prediction\n",
        "  image.flags.writeable =True #now image is writeable\n",
        "  image = cv.cvtColor(image, cv.COLOR_RGB2BGR) #converting color from RGb to BGR\n",
        "  return image, result\n"
      ],
      "metadata": {
        "id": "dkBGRRuImemb"
      },
      "execution_count": 5,
      "outputs": []
    },
    {
      "cell_type": "code",
      "source": [
        "def draw_landmarks(image, result):\n",
        "  mp_drawing.draw_landmarks(image, result.face_landmarks, mp_holistic.FACE_CONNECTIONS) #draw face connections\n",
        "  mp_drawing.draw_landmarks(image, result.pose_landmarks, mp_holistic.POSE_CONNECTIONS) #draw pose connections\n",
        "  mp_drawing.draw_landmarks(image, result.left_hand_landamarks, mp_holistic.HAND_CONNECTIONS) #draw left hand connections\n",
        "  mp_drawing.draw_landmarks(image, result.right_hand_connectionns, mp_holistic.HAND_CONNECTIONS)  #draw right hand connections"
      ],
      "metadata": {
        "id": "qVoCnZx3njOh"
      },
      "execution_count": 7,
      "outputs": []
    },
    {
      "cell_type": "code",
      "source": [
        "def draw_styled_landmarks(image, result):\n",
        "  #draw face connections\n",
        "  mp_drawing.draw_landmarks(image, result.face_landmarks, mp_holistic.FACE_CONNECTIONS,\n",
        "                            mp_drawing.DrawingSpec(color=(80,110,10), thickness=1, circle_radius=1),\n",
        "                            mp_drawing.DrawingSpec(color=(80,256,111), thickness=1, circle_radius=1)\n",
        "                            )\n",
        "  \n",
        "  #draw pose connecctions\n",
        "  mp_drawing.draw_landmarks(image, result.pose_landmarks, mp_holistic.POSE_CONNECTIONS,\n",
        "                            mp_drawing.DrawingSpec(color=(80,22,10), thickness=2, circle_radius=4),\n",
        "                            mp_drawing.DrawingSpec(color=(80,44,121), thickness=2, circle_radius=2)\n",
        "                            )\n",
        "\n",
        "  #draw left hand connections\n",
        "  mp_drawing.draw_landmarks(image, result.left_hand_landmarks, mp_holistic.HAND_CONNECTIONS,\n",
        "                            mp_drawing.DrawingSpec(color=(121,22,76), thickness=2, circle_radius=4),\n",
        "                            mp_drawing.DrawingSpec(color=(121,44,250), thickness=2, circle_radius=2)\n",
        "                            )\n",
        "  \n",
        "  #draw right hand connections\n",
        "  mp_drawing.draw_landmarks(image, result.right_hand_landmarks, mp_holistic.HAND_CONNECTIONS,\n",
        "                            mp_drawing.DrawingSpec(color=(245,117,66), thickness=2, circle_radius=4),\n",
        "                            mp_drawing.DrawingSpec(color=(245,66,230), thickness=2, circle_radius=2)\n",
        "                            )"
      ],
      "metadata": {
        "id": "zV9vIkNbo3Wk"
      },
      "execution_count": 9,
      "outputs": []
    },
    {
      "cell_type": "code",
      "source": [
        "cap = cv.VideoCapture(0)\n",
        "\n",
        "#set mediapipe model\n",
        "with mp_holistic.Holistic(min_detection_confidence=0.5, min_tracking_confidence=0.5) as holistic:\n",
        "  while cap.isOpened():\n",
        "\n",
        "    #read feed\n",
        "    ret, frame = cap.read()\n",
        "\n",
        "    #make detections\n",
        "    image, result = mediapipe_detection(frame, holistic)\n",
        "    print(result)\n",
        "\n",
        "    #draw landmarks\n",
        "    draw_styled_landmarks(image, result)\n",
        "\n",
        "    #display \n",
        "    cv.imshow('OpenCV Feed', image)\n",
        "\n",
        "    #break gracefully\n",
        "    if cv.waikKey(15) & 0xFF == ord('q'):\n",
        "      break\n",
        "\n",
        "  cap.release()\n",
        "  cv.destroyAllWindows()"
      ],
      "metadata": {
        "id": "4wfF2emguwRs"
      },
      "execution_count": 12,
      "outputs": []
    },
    {
      "cell_type": "code",
      "source": [],
      "metadata": {
        "id": "nWWW84F5wdmN"
      },
      "execution_count": null,
      "outputs": []
    }
  ]
}